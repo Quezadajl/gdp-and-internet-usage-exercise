{
 "cells": [
  {
   "cell_type": "code",
   "execution_count": 2,
   "id": "8c621d3f",
   "metadata": {},
   "outputs": [],
   "source": [
    "import pandas as pd\n",
    "import numpy as np\n",
    "import matplotlib.pyplot as plt\n",
    "import seaborn as sns\n",
    "%matplotlib inline"
   ]
  },
  {
   "cell_type": "code",
   "execution_count": 83,
   "id": "9af53dc1",
   "metadata": {},
   "outputs": [
    {
     "name": "stdout",
     "output_type": "stream",
     "text": [
      "     Country or Area  Year        Value  Value Footnotes\n",
      "0        Afghanistan  2019  2065.036398              NaN\n",
      "1        Afghanistan  2018  2033.779002              NaN\n",
      "2        Afghanistan  2017  2058.383832              NaN\n",
      "3        Afghanistan  2016  2057.062164              NaN\n",
      "4        Afghanistan  2015  2068.265904              NaN\n",
      "...              ...   ...          ...              ...\n",
      "6863        Zimbabwe  1994  3263.934978              NaN\n",
      "6864        Zimbabwe  1993  3033.504852              NaN\n",
      "6865        Zimbabwe  1992  3054.889178              NaN\n",
      "6866        Zimbabwe  1991  3426.598094              NaN\n",
      "6867        Zimbabwe  1990  3324.348171              NaN\n",
      "\n",
      "[6868 rows x 4 columns]\n"
     ]
    }
   ],
   "source": [
    "gdp_df = pd.read_csv ('../data/gdp_percapita.csv', nrows=6868)\n",
    "print(gdp_df)"
   ]
  },
  {
   "cell_type": "markdown",
   "id": "d26d5fb0",
   "metadata": {},
   "source": [
    "There are 6868 rows and 4 columns in gdp_df"
   ]
  },
  {
   "cell_type": "code",
   "execution_count": 84,
   "id": "6f09c408",
   "metadata": {},
   "outputs": [
    {
     "data": {
      "text/plain": [
       "(6868, 4)"
      ]
     },
     "execution_count": 84,
     "metadata": {},
     "output_type": "execute_result"
    }
   ],
   "source": [
    "gdp_df.shape"
   ]
  },
  {
   "cell_type": "code",
   "execution_count": 85,
   "id": "3159708e",
   "metadata": {},
   "outputs": [
    {
     "name": "stdout",
     "output_type": "stream",
     "text": [
      "  Country or Area  Year        Value  Value Footnotes\n",
      "0     Afghanistan  2019  2065.036398              NaN\n",
      "1     Afghanistan  2018  2033.779002              NaN\n",
      "2     Afghanistan  2017  2058.383832              NaN\n",
      "3     Afghanistan  2016  2057.062164              NaN\n",
      "4     Afghanistan  2015  2068.265904              NaN\n",
      "5     Afghanistan  2014  2102.385234              NaN\n"
     ]
    }
   ],
   "source": [
    "print(gdp_df.head(6))"
   ]
  },
  {
   "cell_type": "code",
   "execution_count": 86,
   "id": "ff4ba5d9",
   "metadata": {},
   "outputs": [
    {
     "name": "stdout",
     "output_type": "stream",
     "text": [
      "     Country or Area  Year        Value  Value Footnotes\n",
      "6858        Zimbabwe  1999  3600.849291              NaN\n",
      "6859        Zimbabwe  1998  3653.920016              NaN\n",
      "6860        Zimbabwe  1997  3580.048793              NaN\n",
      "6861        Zimbabwe  1996  3520.430146              NaN\n",
      "6862        Zimbabwe  1995  3226.413930              NaN\n",
      "6863        Zimbabwe  1994  3263.934978              NaN\n",
      "6864        Zimbabwe  1993  3033.504852              NaN\n",
      "6865        Zimbabwe  1992  3054.889178              NaN\n",
      "6866        Zimbabwe  1991  3426.598094              NaN\n",
      "6867        Zimbabwe  1990  3324.348171              NaN\n"
     ]
    }
   ],
   "source": [
    "print(gdp_df.tail(10))"
   ]
  },
  {
   "cell_type": "code",
   "execution_count": 87,
   "id": "a4079de1",
   "metadata": {},
   "outputs": [],
   "source": [
    "gdp_df.drop(['Value Footnotes'],axis=1, inplace=True)"
   ]
  },
  {
   "cell_type": "code",
   "execution_count": 88,
   "id": "d265230d",
   "metadata": {},
   "outputs": [],
   "source": [
    "gdp_df.rename(columns={'Country or Area':'Country', 'Year': 'Year', 'Value':'GDP_Per_Capita'}, inplace=True)"
   ]
  },
  {
   "cell_type": "code",
   "execution_count": 89,
   "id": "4ceed4ce",
   "metadata": {},
   "outputs": [
    {
     "name": "stdout",
     "output_type": "stream",
     "text": [
      "     Country or Area  Year     Value  Value Footnotes\n",
      "0        Afghanistan  2014  6.390000              NaN\n",
      "1        Afghanistan  2013  5.900000              NaN\n",
      "2        Afghanistan  2012  5.454545              NaN\n",
      "3        Afghanistan  2011  5.000000              NaN\n",
      "4        Afghanistan  2010  4.000000              NaN\n",
      "...              ...   ...       ...              ...\n",
      "4490        Zimbabwe  1997  0.033080              NaN\n",
      "4491        Zimbabwe  1996  0.016790              NaN\n",
      "4492        Zimbabwe  1995  0.007684              NaN\n",
      "4493        Zimbabwe  1994  0.001739              NaN\n",
      "4494        Zimbabwe  1990  0.000000              NaN\n",
      "\n",
      "[4495 rows x 4 columns]\n"
     ]
    }
   ],
   "source": [
    "internet_df = pd.read_csv ('../data/internet_use.csv', nrows=4495)\n",
    "print(internet_df)"
   ]
  },
  {
   "cell_type": "markdown",
   "id": "61f91f19",
   "metadata": {},
   "source": [
    "There are 4495 rows and 4 columns in internet_df"
   ]
  },
  {
   "cell_type": "code",
   "execution_count": 90,
   "id": "38f85ff0",
   "metadata": {},
   "outputs": [
    {
     "data": {
      "text/plain": [
       "(4495, 4)"
      ]
     },
     "execution_count": 90,
     "metadata": {},
     "output_type": "execute_result"
    }
   ],
   "source": [
    "internet_df.shape"
   ]
  },
  {
   "cell_type": "code",
   "execution_count": 91,
   "id": "e9900e0c",
   "metadata": {},
   "outputs": [
    {
     "name": "stdout",
     "output_type": "stream",
     "text": [
      "  Country or Area  Year     Value  Value Footnotes\n",
      "0     Afghanistan  2014  6.390000              NaN\n",
      "1     Afghanistan  2013  5.900000              NaN\n",
      "2     Afghanistan  2012  5.454545              NaN\n",
      "3     Afghanistan  2011  5.000000              NaN\n",
      "4     Afghanistan  2010  4.000000              NaN\n",
      "5     Afghanistan  2009  3.550000              NaN\n"
     ]
    }
   ],
   "source": [
    "print(internet_df.head(6))"
   ]
  },
  {
   "cell_type": "code",
   "execution_count": 92,
   "id": "91b502bb",
   "metadata": {},
   "outputs": [
    {
     "name": "stdout",
     "output_type": "stream",
     "text": [
      "     Country or Area  Year     Value  Value Footnotes\n",
      "4485        Zimbabwe  2002  3.994356              NaN\n",
      "4486        Zimbabwe  2001  0.799846              NaN\n",
      "4487        Zimbabwe  2000  0.401434              NaN\n",
      "4488        Zimbabwe  1999  0.161676              NaN\n",
      "4489        Zimbabwe  1998  0.081648              NaN\n",
      "4490        Zimbabwe  1997  0.033080              NaN\n",
      "4491        Zimbabwe  1996  0.016790              NaN\n",
      "4492        Zimbabwe  1995  0.007684              NaN\n",
      "4493        Zimbabwe  1994  0.001739              NaN\n",
      "4494        Zimbabwe  1990  0.000000              NaN\n"
     ]
    }
   ],
   "source": [
    "print(internet_df.tail(10))"
   ]
  },
  {
   "cell_type": "code",
   "execution_count": 93,
   "id": "229346d1",
   "metadata": {},
   "outputs": [],
   "source": [
    "internet_df.drop(['Value Footnotes'], axis=1, inplace=True)"
   ]
  },
  {
   "cell_type": "code",
   "execution_count": 94,
   "id": "912c5e9a",
   "metadata": {},
   "outputs": [],
   "source": [
    "internet_df.rename(columns={'Country or Area':'Country','Year':'Year','Value':'Internet_Users_Pct'}, inplace=True)"
   ]
  },
  {
   "cell_type": "code",
   "execution_count": 111,
   "id": "1f1773a0",
   "metadata": {},
   "outputs": [
    {
     "name": "stdout",
     "output_type": "stream",
     "text": [
      "          Country  Year  Internet_Users_Pct\n",
      "0     Afghanistan  2014            6.390000\n",
      "1     Afghanistan  2013            5.900000\n",
      "2     Afghanistan  2012            5.454545\n",
      "3     Afghanistan  2011            5.000000\n",
      "4     Afghanistan  2010            4.000000\n",
      "...           ...   ...                 ...\n",
      "4490     Zimbabwe  1997            0.033080\n",
      "4491     Zimbabwe  1996            0.016790\n",
      "4492     Zimbabwe  1995            0.007684\n",
      "4493     Zimbabwe  1994            0.001739\n",
      "4494     Zimbabwe  1990            0.000000\n",
      "\n",
      "[4495 rows x 3 columns]\n"
     ]
    }
   ],
   "source": [
    "print(internet_df)"
   ]
  },
  {
   "cell_type": "code",
   "execution_count": 123,
   "id": "adcc5113",
   "metadata": {},
   "outputs": [
    {
     "name": "stdout",
     "output_type": "stream",
     "text": [
      "          Country  Year  GDP_Per_Capita  Internet_Users_Pct\n",
      "0     Afghanistan  2014     2102.385234            6.390000\n",
      "1     Afghanistan  2013     2116.465454            5.900000\n",
      "2     Afghanistan  2012     2075.491747            5.454545\n",
      "3     Afghanistan  2011     1904.559799            5.000000\n",
      "4     Afghanistan  2010     1957.029338            4.000000\n",
      "...           ...   ...             ...                 ...\n",
      "3453     Zimbabwe  1997     3580.048793            0.033080\n",
      "3454     Zimbabwe  1996     3520.430146            0.016790\n",
      "3455     Zimbabwe  1995     3226.413930            0.007684\n",
      "3456     Zimbabwe  1994     3263.934978            0.001739\n",
      "3457     Zimbabwe  1990     3324.348171            0.000000\n",
      "\n",
      "[3458 rows x 4 columns]\n"
     ]
    }
   ],
   "source": [
    "gdp_and_internet_use = pd.merge(gdp_df, internet_df, on=['Country', 'Year'])\n",
    "print(gdp_and_internet_use)"
   ]
  },
  {
   "cell_type": "code",
   "execution_count": 124,
   "id": "45d9ab5a",
   "metadata": {},
   "outputs": [
    {
     "data": {
      "text/html": [
       "<div>\n",
       "<style scoped>\n",
       "    .dataframe tbody tr th:only-of-type {\n",
       "        vertical-align: middle;\n",
       "    }\n",
       "\n",
       "    .dataframe tbody tr th {\n",
       "        vertical-align: top;\n",
       "    }\n",
       "\n",
       "    .dataframe thead th {\n",
       "        text-align: right;\n",
       "    }\n",
       "</style>\n",
       "<table border=\"1\" class=\"dataframe\">\n",
       "  <thead>\n",
       "    <tr style=\"text-align: right;\">\n",
       "      <th></th>\n",
       "      <th>Country</th>\n",
       "      <th>Year</th>\n",
       "      <th>GDP_Per_Capita</th>\n",
       "      <th>Internet_Users_Pct</th>\n",
       "    </tr>\n",
       "  </thead>\n",
       "  <tbody>\n",
       "    <tr>\n",
       "      <th>0</th>\n",
       "      <td>Afghanistan</td>\n",
       "      <td>2014</td>\n",
       "      <td>2102.385234</td>\n",
       "      <td>6.390000</td>\n",
       "    </tr>\n",
       "    <tr>\n",
       "      <th>1</th>\n",
       "      <td>Afghanistan</td>\n",
       "      <td>2013</td>\n",
       "      <td>2116.465454</td>\n",
       "      <td>5.900000</td>\n",
       "    </tr>\n",
       "    <tr>\n",
       "      <th>2</th>\n",
       "      <td>Afghanistan</td>\n",
       "      <td>2012</td>\n",
       "      <td>2075.491747</td>\n",
       "      <td>5.454545</td>\n",
       "    </tr>\n",
       "    <tr>\n",
       "      <th>3</th>\n",
       "      <td>Afghanistan</td>\n",
       "      <td>2011</td>\n",
       "      <td>1904.559799</td>\n",
       "      <td>5.000000</td>\n",
       "    </tr>\n",
       "    <tr>\n",
       "      <th>4</th>\n",
       "      <td>Afghanistan</td>\n",
       "      <td>2010</td>\n",
       "      <td>1957.029338</td>\n",
       "      <td>4.000000</td>\n",
       "    </tr>\n",
       "  </tbody>\n",
       "</table>\n",
       "</div>"
      ],
      "text/plain": [
       "       Country  Year  GDP_Per_Capita  Internet_Users_Pct\n",
       "0  Afghanistan  2014     2102.385234            6.390000\n",
       "1  Afghanistan  2013     2116.465454            5.900000\n",
       "2  Afghanistan  2012     2075.491747            5.454545\n",
       "3  Afghanistan  2011     1904.559799            5.000000\n",
       "4  Afghanistan  2010     1957.029338            4.000000"
      ]
     },
     "execution_count": 124,
     "metadata": {},
     "output_type": "execute_result"
    }
   ],
   "source": [
    "gdp_and_internet_use.head()"
   ]
  },
  {
   "cell_type": "code",
   "execution_count": 125,
   "id": "f3faff90",
   "metadata": {},
   "outputs": [
    {
     "data": {
      "text/html": [
       "<div>\n",
       "<style scoped>\n",
       "    .dataframe tbody tr th:only-of-type {\n",
       "        vertical-align: middle;\n",
       "    }\n",
       "\n",
       "    .dataframe tbody tr th {\n",
       "        vertical-align: top;\n",
       "    }\n",
       "\n",
       "    .dataframe thead th {\n",
       "        text-align: right;\n",
       "    }\n",
       "</style>\n",
       "<table border=\"1\" class=\"dataframe\">\n",
       "  <thead>\n",
       "    <tr style=\"text-align: right;\">\n",
       "      <th></th>\n",
       "      <th>Country</th>\n",
       "      <th>Year</th>\n",
       "      <th>GDP_Per_Capita</th>\n",
       "      <th>Internet_Users_Pct</th>\n",
       "    </tr>\n",
       "  </thead>\n",
       "  <tbody>\n",
       "    <tr>\n",
       "      <th>3453</th>\n",
       "      <td>Zimbabwe</td>\n",
       "      <td>1997</td>\n",
       "      <td>3580.048793</td>\n",
       "      <td>0.033080</td>\n",
       "    </tr>\n",
       "    <tr>\n",
       "      <th>3454</th>\n",
       "      <td>Zimbabwe</td>\n",
       "      <td>1996</td>\n",
       "      <td>3520.430146</td>\n",
       "      <td>0.016790</td>\n",
       "    </tr>\n",
       "    <tr>\n",
       "      <th>3455</th>\n",
       "      <td>Zimbabwe</td>\n",
       "      <td>1995</td>\n",
       "      <td>3226.413930</td>\n",
       "      <td>0.007684</td>\n",
       "    </tr>\n",
       "    <tr>\n",
       "      <th>3456</th>\n",
       "      <td>Zimbabwe</td>\n",
       "      <td>1994</td>\n",
       "      <td>3263.934978</td>\n",
       "      <td>0.001739</td>\n",
       "    </tr>\n",
       "    <tr>\n",
       "      <th>3457</th>\n",
       "      <td>Zimbabwe</td>\n",
       "      <td>1990</td>\n",
       "      <td>3324.348171</td>\n",
       "      <td>0.000000</td>\n",
       "    </tr>\n",
       "  </tbody>\n",
       "</table>\n",
       "</div>"
      ],
      "text/plain": [
       "       Country  Year  GDP_Per_Capita  Internet_Users_Pct\n",
       "3453  Zimbabwe  1997     3580.048793            0.033080\n",
       "3454  Zimbabwe  1996     3520.430146            0.016790\n",
       "3455  Zimbabwe  1995     3226.413930            0.007684\n",
       "3456  Zimbabwe  1994     3263.934978            0.001739\n",
       "3457  Zimbabwe  1990     3324.348171            0.000000"
      ]
     },
     "execution_count": 125,
     "metadata": {},
     "output_type": "execute_result"
    }
   ],
   "source": [
    "gdp_and_internet_use.tail()"
   ]
  },
  {
   "cell_type": "code",
   "execution_count": 140,
   "id": "1fd85e1c",
   "metadata": {},
   "outputs": [
    {
     "name": "stdout",
     "output_type": "stream",
     "text": [
      "        Country  Year  GDP_Per_Capita  Internet_Users_Pct\n",
      "0   Afghanistan  2014     2102.385234            6.390000\n",
      "5   Afghanistan  2009     1758.904043            3.550000\n",
      "10  Afghanistan  2004     1200.278256            0.105809\n",
      "13      Albania  2014    11623.866679           60.100000\n",
      "18      Albania  2009    10346.864199           41.200000\n"
     ]
    }
   ],
   "source": [
    "subset= gdp_and_internet_use[gdp_and_internet_use['Year'].isin([2004, 2009, 2014])]\n",
    "print(subset.head())"
   ]
  },
  {
   "cell_type": "code",
   "execution_count": 154,
   "id": "f4e941ce",
   "metadata": {},
   "outputs": [
    {
     "name": "stdout",
     "output_type": "stream",
     "text": [
      "          Country  Year  GDP_Per_Capita  Internet_Users_Pct\n",
      "0     Afghanistan  2014     2102.385234            6.390000\n",
      "5     Afghanistan  2009     1758.904043            3.550000\n",
      "10    Afghanistan  2004     1200.278256            0.105809\n",
      "13        Albania  2014    11623.866679           60.100000\n",
      "18        Albania  2009    10346.864199           41.200000\n",
      "...           ...   ...             ...                 ...\n",
      "3419       Zambia  2009     2917.516220            6.310000\n",
      "3424       Zambia  2004     2261.766537            2.013550\n",
      "3436     Zimbabwe  2014     2955.240287           19.890000\n",
      "3441     Zimbabwe  2009     1925.364381           11.360000\n",
      "3446     Zimbabwe  2004     2480.859342            6.564045\n",
      "\n",
      "[482 rows x 4 columns]\n"
     ]
    }
   ],
   "source": [
    "new_df= pd.DataFrame(subset, columns = ['Country', 'Year', 'GDP_Per_Capita', 'Internet_Users_Pct'])\n",
    "print(new_df)"
   ]
  },
  {
   "cell_type": "code",
   "execution_count": 155,
   "id": "d311a205",
   "metadata": {},
   "outputs": [
    {
     "name": "stdout",
     "output_type": "stream",
     "text": [
      "                  Country  Year  GDP_Per_Capita  Internet_Users_Pct\n",
      "10            Afghanistan  2004     1200.278256            0.105809\n",
      "23                Albania  2004     7604.838002            2.420388\n",
      "44                Algeria  2004    10058.435939            4.634475\n",
      "66                 Angola  2004     5593.241537            0.464815\n",
      "86    Antigua and Barbuda  2004    18745.681534           24.266544\n",
      "...                   ...   ...             ...                 ...\n",
      "3361              Uruguay  2004    12479.966871           17.063098\n",
      "3383           Uzbekistan  2004     3221.189333            2.593725\n",
      "3404              Vanuatu  2004     2792.356252            4.746603\n",
      "3424               Zambia  2004     2261.766537            2.013550\n",
      "3446             Zimbabwe  2004     2480.859342            6.564045\n",
      "\n",
      "[157 rows x 4 columns]\n"
     ]
    }
   ],
   "source": [
    "UN_2004_df = new_df[new_df['Year'] == 2004]\n",
    "print(UN_2004_df)"
   ]
  },
  {
   "cell_type": "code",
   "execution_count": 156,
   "id": "338cafa7",
   "metadata": {},
   "outputs": [
    {
     "name": "stdout",
     "output_type": "stream",
     "text": [
      "                  Country  Year  GDP_Per_Capita  Internet_Users_Pct\n",
      "5             Afghanistan  2009     1758.904043            3.550000\n",
      "18                Albania  2009    10346.864199           41.200000\n",
      "39                Algeria  2009    10782.361398           11.230000\n",
      "61                 Angola  2009     7643.493749            6.000000\n",
      "81    Antigua and Barbuda  2009    20046.839017           42.000000\n",
      "...                   ...   ...             ...                 ...\n",
      "3356              Uruguay  2009    16477.823860           41.800000\n",
      "3378           Uzbekistan  2009     4446.863606           17.058216\n",
      "3399              Vanuatu  2009     3270.529800            7.500000\n",
      "3419               Zambia  2009     2917.516220            6.310000\n",
      "3441             Zimbabwe  2009     1925.364381           11.360000\n",
      "\n",
      "[162 rows x 4 columns]\n"
     ]
    }
   ],
   "source": [
    "UN_2009_df = new_df[new_df['Year'] == 2009]\n",
    "print(UN_2009_df)"
   ]
  },
  {
   "cell_type": "code",
   "execution_count": 157,
   "id": "3585c15b",
   "metadata": {},
   "outputs": [
    {
     "name": "stdout",
     "output_type": "stream",
     "text": [
      "                  Country  Year  GDP_Per_Capita  Internet_Users_Pct\n",
      "0             Afghanistan  2014     2102.385234                6.39\n",
      "13                Albania  2014    11623.866679               60.10\n",
      "34                Algeria  2014    11512.705405               18.09\n",
      "56                 Angola  2014     8239.828837               21.26\n",
      "76    Antigua and Barbuda  2014    18104.241470               64.00\n",
      "...                   ...   ...             ...                 ...\n",
      "3351              Uruguay  2014    20582.168953               61.46\n",
      "3373           Uzbekistan  2014     5764.492705               43.55\n",
      "3394              Vanuatu  2014     3116.077025               18.80\n",
      "3414               Zambia  2014     3450.046561               17.34\n",
      "3436             Zimbabwe  2014     2955.240287               19.89\n",
      "\n",
      "[163 rows x 4 columns]\n"
     ]
    }
   ],
   "source": [
    "UN_2014_df = new_df[new_df['Year'] == 2014]\n",
    "print(UN_2014_df)"
   ]
  },
  {
   "cell_type": "code",
   "execution_count": 175,
   "id": "5eaed583",
   "metadata": {},
   "outputs": [
    {
     "data": {
      "text/plain": [
       "Country                    Iceland\n",
       "Year                          2009\n",
       "GDP_Per_Capita        48177.084123\n",
       "Internet_Users_Pct            93.0\n",
       "Name: 1386, dtype: object"
      ]
     },
     "execution_count": 175,
     "metadata": {},
     "output_type": "execute_result"
    }
   ],
   "source": [
    "UN_2009_df.loc[UN_2009_df[\"Internet_Users_Pct\"].idxmax()]"
   ]
  },
  {
   "cell_type": "markdown",
   "id": "a14a8865",
   "metadata": {},
   "source": [
    "#Question 18\n",
    "\n",
    "Highest:\n",
    "= Iceland 2014 had 98.16% \n",
    "= Sweden 2004 had 83.89% \n",
    "= Iceland 2009 had 93%"
   ]
  },
  {
   "cell_type": "code",
   "execution_count": 177,
   "id": "083d1eb8",
   "metadata": {},
   "outputs": [
    {
     "data": {
      "text/plain": [
       "Country               Timor-Leste\n",
       "Year                         2009\n",
       "GDP_Per_Capita        2724.770973\n",
       "Internet_Users_Pct       0.185252\n",
       "Name: 3092, dtype: object"
      ]
     },
     "execution_count": 177,
     "metadata": {},
     "output_type": "execute_result"
    }
   ],
   "source": [
    "UN_2009_df.loc[UN_2009_df[\"Internet_Users_Pct\"].idxmin()]"
   ]
  },
  {
   "cell_type": "markdown",
   "id": "3422ccc6",
   "metadata": {},
   "source": [
    "#Question 19 \n",
    "\n",
    "Lowest:\n",
    "= Timor-Leste had 1.14% in 2014\n",
    "= Myanmar had 0.024337% in 2004\n",
    "= Timor-Leste had 0.185252% in 2009"
   ]
  },
  {
   "cell_type": "code",
   "execution_count": 178,
   "id": "fd82cae6",
   "metadata": {},
   "outputs": [
    {
     "data": {
      "text/plain": [
       "Country                 Luxembourg\n",
       "Year                          2014\n",
       "GDP_Per_Capita        108760.91603\n",
       "Internet_Users_Pct           94.67\n",
       "Name: 1798, dtype: object"
      ]
     },
     "execution_count": 178,
     "metadata": {},
     "output_type": "execute_result"
    }
   ],
   "source": [
    "UN_2014_df.loc[UN_2014_df[\"GDP_Per_Capita\"].idxmax()]"
   ]
  },
  {
   "cell_type": "markdown",
   "id": "ed1a4b37",
   "metadata": {},
   "source": [
    "#Question 21 Highest GDP: Luxembourg 2014; $108,760.92"
   ]
  },
  {
   "cell_type": "code",
   "execution_count": 179,
   "id": "27c682a9",
   "metadata": {},
   "outputs": [
    {
     "data": {
      "text/plain": [
       "Country                  Burundi\n",
       "Year                        2014\n",
       "GDP_Per_Capita        886.235777\n",
       "Internet_Users_Pct          1.38\n",
       "Name: 540, dtype: object"
      ]
     },
     "execution_count": 179,
     "metadata": {},
     "output_type": "execute_result"
    }
   ],
   "source": [
    "UN_2014_df.loc[UN_2014_df[\"GDP_Per_Capita\"].idxmin()]"
   ]
  },
  {
   "cell_type": "markdown",
   "id": "47746d67",
   "metadata": {},
   "source": [
    "#Question 22 Lowest GDP: Burundi 2014 $886.24"
   ]
  },
  {
   "cell_type": "code",
   "execution_count": 193,
   "id": "3fdb011c",
   "metadata": {},
   "outputs": [
    {
     "data": {
      "image/png": "[encoded data removed]",
      "text/plain": [
       "<Figure size 432x288 with 1 Axes>"
      ]
     },
     "metadata": {
      "needs_background": "light"
     },
     "output_type": "display_data"
    }
   ],
   "source": [
    "#Question 23\n",
    "UN_2004_plt = UN_2004_df.plot.scatter(x='Internet_Users_Pct',\n",
    "                                 y='GDP_Per_Capita',\n",
    "                                 c='Purple')"
   ]
  },
  {
   "cell_type": "code",
   "execution_count": 194,
   "id": "89f28924",
   "metadata": {},
   "outputs": [
    {
     "data": {
      "image/png": "[encoded data removed]",
      "text/plain": [
       "<Figure size 432x288 with 1 Axes>"
      ]
     },
     "metadata": {
      "needs_background": "light"
     },
     "output_type": "display_data"
    }
   ],
   "source": [
    "#Question 23\n",
    "UN_2009_plt = UN_2009_df.plot.scatter(x='Internet_Users_Pct',\n",
    "                                 y='GDP_Per_Capita',\n",
    "                                 c='DarkBlue')"
   ]
  },
  {
   "cell_type": "code",
   "execution_count": 196,
   "id": "6d83a481",
   "metadata": {},
   "outputs": [
    {
     "data": {
      "image/png": "[encoded data removed]",
      "text/plain": [
       "<Figure size 432x288 with 1 Axes>"
      ]
     },
     "metadata": {
      "needs_background": "light"
     },
     "output_type": "display_data"
    }
   ],
   "source": [
    "#Question 23\n",
    "UN_2014_plt = UN_2014_df.plot.scatter(x='Internet_Users_Pct',\n",
    "                                 y='GDP_Per_Capita',\n",
    "                                 c='RoyalBlue')"
   ]
  },
  {
   "cell_type": "markdown",
   "id": "007e0f07",
   "metadata": {},
   "source": [
    "Question 24: The assumption that GDP means you are investing more on infrastructure could mean better access to the internet."
   ]
  },
  {
   "cell_type": "markdown",
   "id": "fe336446",
   "metadata": {},
   "source": [
    "Question 25: GDP is multimodal because it only has \"many peaks\""
   ]
  },
  {
   "cell_type": "markdown",
   "id": "98ecb8c6",
   "metadata": {},
   "source": [
    "Question 26: Internet use is unimodal since in has \"one peak\""
   ]
  },
  {
   "cell_type": "code",
   "execution_count": 201,
   "id": "ecc2d8c5",
   "metadata": {
    "scrolled": false
   },
   "outputs": [
    {
     "data": {
      "text/html": [
       "<div>\n",
       "<style scoped>\n",
       "    .dataframe tbody tr th:only-of-type {\n",
       "        vertical-align: middle;\n",
       "    }\n",
       "\n",
       "    .dataframe tbody tr th {\n",
       "        vertical-align: top;\n",
       "    }\n",
       "\n",
       "    .dataframe thead th {\n",
       "        text-align: right;\n",
       "    }\n",
       "</style>\n",
       "<table border=\"1\" class=\"dataframe\">\n",
       "  <thead>\n",
       "    <tr style=\"text-align: right;\">\n",
       "      <th></th>\n",
       "      <th>Country</th>\n",
       "      <th>Year</th>\n",
       "      <th>GDP_Per_Capita</th>\n",
       "      <th>Internet_Users_Pct</th>\n",
       "    </tr>\n",
       "  </thead>\n",
       "  <tbody>\n",
       "    <tr>\n",
       "      <th>1381</th>\n",
       "      <td>Iceland</td>\n",
       "      <td>2014</td>\n",
       "      <td>49652.149500</td>\n",
       "      <td>98.16</td>\n",
       "    </tr>\n",
       "    <tr>\n",
       "      <th>372</th>\n",
       "      <td>Bermuda</td>\n",
       "      <td>2014</td>\n",
       "      <td>77361.104881</td>\n",
       "      <td>96.80</td>\n",
       "    </tr>\n",
       "    <tr>\n",
       "      <th>2296</th>\n",
       "      <td>Norway</td>\n",
       "      <td>2014</td>\n",
       "      <td>62589.373548</td>\n",
       "      <td>96.30</td>\n",
       "    </tr>\n",
       "    <tr>\n",
       "      <th>854</th>\n",
       "      <td>Denmark</td>\n",
       "      <td>2014</td>\n",
       "      <td>52214.537753</td>\n",
       "      <td>95.99</td>\n",
       "    </tr>\n",
       "    <tr>\n",
       "      <th>1798</th>\n",
       "      <td>Luxembourg</td>\n",
       "      <td>2014</td>\n",
       "      <td>108760.916030</td>\n",
       "      <td>94.67</td>\n",
       "    </tr>\n",
       "  </tbody>\n",
       "</table>\n",
       "</div>"
      ],
      "text/plain": [
       "         Country  Year  GDP_Per_Capita  Internet_Users_Pct\n",
       "1381     Iceland  2014    49652.149500               98.16\n",
       "372      Bermuda  2014    77361.104881               96.80\n",
       "2296      Norway  2014    62589.373548               96.30\n",
       "854      Denmark  2014    52214.537753               95.99\n",
       "1798  Luxembourg  2014   108760.916030               94.67"
      ]
     },
     "execution_count": 201,
     "metadata": {},
     "output_type": "execute_result"
    }
   ],
   "source": [
    "UN_2014_df.nlargest(5,'Internet_Users_Pct')"
   ]
  },
  {
   "cell_type": "markdown",
   "id": "71d1adf4",
   "metadata": {},
   "source": [
    "Question 27:\n",
    "Top 5 countries in terms of internet use in 2014:\n",
    "1. Iceland 98.16\n",
    "2. Bermuda 96.80\n",
    "3. Norway 96.30\n",
    "4. Denmark 95.99\n",
    "5. Luxembourg 94.67"
   ]
  },
  {
   "cell_type": "code",
   "execution_count": 230,
   "id": "1c0d9fe9",
   "metadata": {},
   "outputs": [
    {
     "name": "stdout",
     "output_type": "stream",
     "text": [
      "         Country  Year  GDP_Per_Capita  Internet_Users_Pct\n",
      "372      Bermuda  2014    77361.104881           96.800000\n",
      "377      Bermuda  2009    89961.982744           83.250000\n",
      "382      Bermuda  2004    90195.811033           60.990867\n",
      "854      Denmark  2014    52214.537753           95.990000\n",
      "859      Denmark  2009    50274.075696           86.840000\n",
      "864      Denmark  2004    50607.628971           80.930000\n",
      "1381     Iceland  2014    49652.149500           98.160000\n",
      "1386     Iceland  2009    48177.084123           93.000000\n",
      "1391     Iceland  2004    45145.545658           83.880000\n",
      "1798  Luxembourg  2014   108760.916030           94.670000\n",
      "1803  Luxembourg  2009   104932.811953           87.310000\n",
      "1808  Luxembourg  2004   102708.212547           65.880000\n",
      "2296      Norway  2014    62589.373548           96.300000\n",
      "2301      Norway  2009    61886.564498           92.080000\n",
      "2306      Norway  2004    60893.410993           77.690000\n"
     ]
    }
   ],
   "source": [
    "top_5_internet= new_df[new_df['Country'].isin(['Iceland', 'Bermuda', 'Norway', 'Denmark', 'Luxembourg'])]\n",
    "print(top_5_internet)\n",
    "#This chart displays progression of top 5 internet users for 2014 across 2004, 2009, 2014"
   ]
  },
  {
   "cell_type": "code",
   "execution_count": 224,
   "id": "ee12a7a0",
   "metadata": {},
   "outputs": [
    {
     "data": {
      "text/plain": [
       "(15, 4)"
      ]
     },
     "execution_count": 224,
     "metadata": {},
     "output_type": "execute_result"
    }
   ],
   "source": [
    "#Question 28\n",
    "top_5_internet.shape"
   ]
  },
  {
   "cell_type": "code",
   "execution_count": 236,
   "id": "85abe554",
   "metadata": {},
   "outputs": [
    {
     "name": "stdout",
     "output_type": "stream",
     "text": [
      "          Country  Year  GDP_Per_Capita  Internet_Users_Pct\n",
      "1381      Iceland  2014    49652.149500               98.16\n",
      "372       Bermuda  2014    77361.104881               96.80\n",
      "2296       Norway  2014    62589.373548               96.30\n",
      "854       Denmark  2014    52214.537753               95.99\n",
      "1798   Luxembourg  2014   108760.916030               94.67\n",
      "1386      Iceland  2009    48177.084123               93.00\n",
      "2301       Norway  2009    61886.564498               92.08\n",
      "2980       Sweden  2009    45638.035577               91.00\n",
      "2190  Netherlands  2009    51772.424928               89.63\n",
      "1803   Luxembourg  2009   104932.811953               87.31\n",
      "2985       Sweden  2004    44496.023401               83.89\n",
      "1391      Iceland  2004    45145.545658               83.88\n",
      "864       Denmark  2004    50607.628971               80.93\n",
      "2306       Norway  2004    60893.410993               77.69\n",
      "1063      Finland  2004    43760.279146               72.39\n"
     ]
    }
   ],
   "source": [
    "top_5_internet_ALL = new_df.sort_values(['Internet_Users_Pct', 'Year'], ascending=False).groupby('Year').head(5)\n",
    "print(top_5_internet_All)\n",
    "#This chart displays the top 5 internet users for the years 2004, 2009, 2014"
   ]
  },
  {
   "cell_type": "code",
   "execution_count": 265,
   "id": "e980e147",
   "metadata": {},
   "outputs": [
    {
     "data": {
      "text/plain": [
       "<seaborn.axisgrid.FacetGrid at 0x22885d8c940>"
      ]
     },
     "execution_count": 265,
     "metadata": {},
     "output_type": "execute_result"
    },
    {
     "data": {
      "image/png": "[encoded data removed]",
      "text/plain": [
       "<Figure size 913.957x216 with 3 Axes>"
      ]
     },
     "metadata": {
      "needs_background": "light"
     },
     "output_type": "display_data"
    }
   ],
   "source": [
    "#Question 29; Bermuda had the greatest growth in internet usage\n",
    "g = sns.FacetGrid(top_5_internet, col='Year', hue='Country', aspect=1.259)\n",
    "g.map_dataframe(sns.scatterplot,x='Country', y='Internet_Users_Pct')\n",
    "g.add_legend()"
   ]
  },
  {
   "cell_type": "code",
   "execution_count": 338,
   "id": "066f3532",
   "metadata": {},
   "outputs": [
    {
     "data": {
      "image/png": "[encoded data removed]",
      "text/plain": [
       "<Figure size 432x288 with 1 Axes>"
      ]
     },
     "metadata": {
      "needs_background": "light"
     },
     "output_type": "display_data"
    }
   ],
   "source": [
    "ax= sns.barplot(y='Country', x='Internet_Users_Pct', hue='Year', data=top_5_internet, color='salmon')"
   ]
  },
  {
   "cell_type": "code",
   "execution_count": 277,
   "id": "42b64741",
   "metadata": {},
   "outputs": [
    {
     "data": {
      "text/html": [
       "<div>\n",
       "<style scoped>\n",
       "    .dataframe tbody tr th:only-of-type {\n",
       "        vertical-align: middle;\n",
       "    }\n",
       "\n",
       "    .dataframe tbody tr th {\n",
       "        vertical-align: top;\n",
       "    }\n",
       "\n",
       "    .dataframe thead th {\n",
       "        text-align: right;\n",
       "    }\n",
       "</style>\n",
       "<table border=\"1\" class=\"dataframe\">\n",
       "  <thead>\n",
       "    <tr style=\"text-align: right;\">\n",
       "      <th></th>\n",
       "      <th>Country</th>\n",
       "      <th>Year</th>\n",
       "      <th>GDP_Per_Capita</th>\n",
       "      <th>Internet_Users_Pct</th>\n",
       "    </tr>\n",
       "  </thead>\n",
       "  <tbody>\n",
       "    <tr>\n",
       "      <th>3087</th>\n",
       "      <td>Timor-Leste</td>\n",
       "      <td>2014</td>\n",
       "      <td>3264.568070</td>\n",
       "      <td>1.14</td>\n",
       "    </tr>\n",
       "    <tr>\n",
       "      <th>540</th>\n",
       "      <td>Burundi</td>\n",
       "      <td>2014</td>\n",
       "      <td>886.235777</td>\n",
       "      <td>1.38</td>\n",
       "    </tr>\n",
       "    <tr>\n",
       "      <th>1261</th>\n",
       "      <td>Guinea</td>\n",
       "      <td>2014</td>\n",
       "      <td>2061.760973</td>\n",
       "      <td>1.72</td>\n",
       "    </tr>\n",
       "    <tr>\n",
       "      <th>2256</th>\n",
       "      <td>Niger</td>\n",
       "      <td>2014</td>\n",
       "      <td>1127.615541</td>\n",
       "      <td>1.95</td>\n",
       "    </tr>\n",
       "    <tr>\n",
       "      <th>2122</th>\n",
       "      <td>Myanmar</td>\n",
       "      <td>2014</td>\n",
       "      <td>4020.037369</td>\n",
       "      <td>2.10</td>\n",
       "    </tr>\n",
       "  </tbody>\n",
       "</table>\n",
       "</div>"
      ],
      "text/plain": [
       "          Country  Year  GDP_Per_Capita  Internet_Users_Pct\n",
       "3087  Timor-Leste  2014     3264.568070                1.14\n",
       "540       Burundi  2014      886.235777                1.38\n",
       "1261       Guinea  2014     2061.760973                1.72\n",
       "2256        Niger  2014     1127.615541                1.95\n",
       "2122      Myanmar  2014     4020.037369                2.10"
      ]
     },
     "execution_count": 277,
     "metadata": {},
     "output_type": "execute_result"
    }
   ],
   "source": [
    "#Question 30\n",
    "#1.Timor-leste\n",
    "#2.Burundi\n",
    "#3.Guinea\n",
    "#4.Niger\n",
    "#5. Myanmar\n",
    "UN_2014_df.nsmallest(5,'Internet_Users_Pct')"
   ]
  },
  {
   "cell_type": "code",
   "execution_count": 280,
   "id": "7564ac0a",
   "metadata": {},
   "outputs": [
    {
     "name": "stdout",
     "output_type": "stream",
     "text": [
      "          Country  Year  GDP_Per_Capita  Internet_Users_Pct\n",
      "540       Burundi  2014      886.235777            1.380000\n",
      "545       Burundi  2009      831.564131            0.900000\n",
      "550       Burundi  2004      817.460585            0.349060\n",
      "1261       Guinea  2014     2061.760973            1.720000\n",
      "1266       Guinea  2009     1825.576637            0.940000\n",
      "1271       Guinea  2004     1778.079082            0.508819\n",
      "2122      Myanmar  2014     4020.037369            2.100000\n",
      "2127      Myanmar  2009     2874.780227            0.220000\n",
      "2132      Myanmar  2004     1696.881760            0.024337\n",
      "2256        Niger  2014     1127.615541            1.950000\n",
      "2261        Niger  2009      992.409977            0.760000\n",
      "2266        Niger  2004      929.883920            0.189934\n",
      "3087  Timor-Leste  2014     3264.568070            1.140000\n",
      "3092  Timor-Leste  2009     2724.770973            0.185252\n"
     ]
    }
   ],
   "source": [
    "bottom_5_internet= new_df[new_df['Country'].isin(['Timor-Leste', 'Burundi', 'Guinea', 'Niger', 'Myanmar'])]\n",
    "print(bottom_5_internet)\n",
    "#This chart displays progression of bottom 5 internet users for 2014 across 2004, 2009, 2014"
   ]
  },
  {
   "cell_type": "code",
   "execution_count": 281,
   "id": "93373427",
   "metadata": {},
   "outputs": [
    {
     "data": {
      "text/plain": [
       "<seaborn.axisgrid.FacetGrid at 0x2288d8b1880>"
      ]
     },
     "execution_count": 281,
     "metadata": {},
     "output_type": "execute_result"
    },
    {
     "data": {
      "image/png": "[encoded data removed]",
      "text/plain": [
       "<Figure size 909.957x216 with 3 Axes>"
      ]
     },
     "metadata": {
      "needs_background": "light"
     },
     "output_type": "display_data"
    }
   ],
   "source": [
    "#Timor-Leste has had the lowest usage of internet\n",
    "g = sns.FacetGrid(bottom_5_internet, col='Year', hue='Country', aspect=1.259)\n",
    "g.map_dataframe(sns.scatterplot,x='Country', y='Internet_Users_Pct')\n",
    "g.add_legend()"
   ]
  },
  {
   "cell_type": "code",
   "execution_count": 327,
   "id": "daa5864b",
   "metadata": {},
   "outputs": [
    {
     "data": {
      "image/png": "[encoded data removed]",
      "text/plain": [
       "<Figure size 432x288 with 1 Axes>"
      ]
     },
     "metadata": {
      "needs_background": "light"
     },
     "output_type": "display_data"
    }
   ],
   "source": [
    "ax= sns.barplot(y='Country', x='Internet_Users_Pct', hue='Year', data=bottom_5_internet, palette='Blues_d')"
   ]
  },
  {
   "cell_type": "code",
   "execution_count": 282,
   "id": "098341f0",
   "metadata": {},
   "outputs": [
    {
     "data": {
      "text/html": [
       "<div>\n",
       "<style scoped>\n",
       "    .dataframe tbody tr th:only-of-type {\n",
       "        vertical-align: middle;\n",
       "    }\n",
       "\n",
       "    .dataframe tbody tr th {\n",
       "        vertical-align: top;\n",
       "    }\n",
       "\n",
       "    .dataframe thead th {\n",
       "        text-align: right;\n",
       "    }\n",
       "</style>\n",
       "<table border=\"1\" class=\"dataframe\">\n",
       "  <thead>\n",
       "    <tr style=\"text-align: right;\">\n",
       "      <th></th>\n",
       "      <th>Country</th>\n",
       "      <th>Year</th>\n",
       "      <th>GDP_Per_Capita</th>\n",
       "      <th>Internet_Users_Pct</th>\n",
       "    </tr>\n",
       "  </thead>\n",
       "  <tbody>\n",
       "    <tr>\n",
       "      <th>1798</th>\n",
       "      <td>Luxembourg</td>\n",
       "      <td>2014</td>\n",
       "      <td>108760.916030</td>\n",
       "      <td>94.67</td>\n",
       "    </tr>\n",
       "    <tr>\n",
       "      <th>2542</th>\n",
       "      <td>Qatar</td>\n",
       "      <td>2014</td>\n",
       "      <td>95578.416973</td>\n",
       "      <td>91.49</td>\n",
       "    </tr>\n",
       "    <tr>\n",
       "      <th>2751</th>\n",
       "      <td>Singapore</td>\n",
       "      <td>2014</td>\n",
       "      <td>87808.663157</td>\n",
       "      <td>82.00</td>\n",
       "    </tr>\n",
       "    <tr>\n",
       "      <th>372</th>\n",
       "      <td>Bermuda</td>\n",
       "      <td>2014</td>\n",
       "      <td>77361.104881</td>\n",
       "      <td>96.80</td>\n",
       "    </tr>\n",
       "    <tr>\n",
       "      <th>627</th>\n",
       "      <td>Cayman Islands</td>\n",
       "      <td>2014</td>\n",
       "      <td>66207.447230</td>\n",
       "      <td>74.10</td>\n",
       "    </tr>\n",
       "  </tbody>\n",
       "</table>\n",
       "</div>"
      ],
      "text/plain": [
       "             Country  Year  GDP_Per_Capita  Internet_Users_Pct\n",
       "1798      Luxembourg  2014   108760.916030               94.67\n",
       "2542           Qatar  2014    95578.416973               91.49\n",
       "2751       Singapore  2014    87808.663157               82.00\n",
       "372          Bermuda  2014    77361.104881               96.80\n",
       "627   Cayman Islands  2014    66207.447230               74.10"
      ]
     },
     "execution_count": 282,
     "metadata": {},
     "output_type": "execute_result"
    }
   ],
   "source": [
    "#31 top 5 countries for GDP in 2014\n",
    "UN_2014_df.nlargest(5,'GDP_Per_Capita')"
   ]
  },
  {
   "cell_type": "code",
   "execution_count": 283,
   "id": "eef837d3",
   "metadata": {},
   "outputs": [
    {
     "name": "stdout",
     "output_type": "stream",
     "text": [
      "             Country  Year  GDP_Per_Capita  Internet_Users_Pct\n",
      "372          Bermuda  2014    77361.104881           96.800000\n",
      "377          Bermuda  2009    89961.982744           83.250000\n",
      "382          Bermuda  2004    90195.811033           60.990867\n",
      "627   Cayman Islands  2014    66207.447230           74.100000\n",
      "632   Cayman Islands  2009    70300.334857           64.500000\n",
      "1798      Luxembourg  2014   108760.916030           94.670000\n",
      "1803      Luxembourg  2009   104932.811953           87.310000\n",
      "1808      Luxembourg  2004   102708.212547           65.880000\n",
      "2542           Qatar  2014    95578.416973           91.490000\n",
      "2547           Qatar  2009    89954.519993           53.100000\n",
      "2552           Qatar  2004    93748.301216           20.701648\n",
      "2751       Singapore  2014    87808.663157           82.000000\n",
      "2756       Singapore  2009    69466.581746           69.000000\n",
      "2761       Singapore  2004    63901.716368           62.000000\n"
     ]
    }
   ],
   "source": [
    "top_5_gdp= new_df[new_df['Country'].isin(['Luxembourg', 'Qatar', 'Singapore', 'Bermuda', 'Cayman Islands'])]\n",
    "print(top_5_gdp)"
   ]
  },
  {
   "cell_type": "code",
   "execution_count": 345,
   "id": "0125fa55",
   "metadata": {
    "scrolled": true
   },
   "outputs": [
    {
     "data": {
      "text/plain": [
       "<seaborn.axisgrid.FacetGrid at 0x2289be235b0>"
      ]
     },
     "execution_count": 345,
     "metadata": {},
     "output_type": "execute_result"
    },
    {
     "data": {
      "image/png": "[encoded data removed]",
      "text/plain": [
       "<Figure size 1229.81x216 with 3 Axes>"
      ]
     },
     "metadata": {
      "needs_background": "light"
     },
     "output_type": "display_data"
    }
   ],
   "source": [
    "g = sns.FacetGrid(top_5_gdp, col='Year', hue='Country', aspect=1.72)\n",
    "g.map_dataframe(sns.scatterplot,x='Country', y='GDP_Per_Capita')\n",
    "g.add_legend()"
   ]
  },
  {
   "cell_type": "code",
   "execution_count": 347,
   "id": "8b2f6f5e",
   "metadata": {},
   "outputs": [
    {
     "data": {
      "image/png": "[encoded data removed]",
      "text/plain": [
       "<Figure size 432x288 with 1 Axes>"
      ]
     },
     "metadata": {
      "needs_background": "light"
     },
     "output_type": "display_data"
    }
   ],
   "source": [
    "ax= sns.barplot(y='Country', x='GDP_Per_Capita', hue='Year', data=top_5_gdp, palette='pastel')"
   ]
  },
  {
   "cell_type": "code",
   "execution_count": 342,
   "id": "c9ea0786",
   "metadata": {},
   "outputs": [
    {
     "data": {
      "text/html": [
       "<div>\n",
       "<style scoped>\n",
       "    .dataframe tbody tr th:only-of-type {\n",
       "        vertical-align: middle;\n",
       "    }\n",
       "\n",
       "    .dataframe tbody tr th {\n",
       "        vertical-align: top;\n",
       "    }\n",
       "\n",
       "    .dataframe thead th {\n",
       "        text-align: right;\n",
       "    }\n",
       "</style>\n",
       "<table border=\"1\" class=\"dataframe\">\n",
       "  <thead>\n",
       "    <tr style=\"text-align: right;\">\n",
       "      <th></th>\n",
       "      <th>Country</th>\n",
       "      <th>Year</th>\n",
       "      <th>GDP_Per_Capita</th>\n",
       "      <th>Internet_Users_Pct</th>\n",
       "    </tr>\n",
       "  </thead>\n",
       "  <tbody>\n",
       "    <tr>\n",
       "      <th>540</th>\n",
       "      <td>Burundi</td>\n",
       "      <td>2014</td>\n",
       "      <td>886.235777</td>\n",
       "      <td>1.38</td>\n",
       "    </tr>\n",
       "    <tr>\n",
       "      <th>1842</th>\n",
       "      <td>Malawi</td>\n",
       "      <td>2014</td>\n",
       "      <td>1027.208496</td>\n",
       "      <td>5.83</td>\n",
       "    </tr>\n",
       "    <tr>\n",
       "      <th>2256</th>\n",
       "      <td>Niger</td>\n",
       "      <td>2014</td>\n",
       "      <td>1127.615541</td>\n",
       "      <td>1.95</td>\n",
       "    </tr>\n",
       "    <tr>\n",
       "      <th>2102</th>\n",
       "      <td>Mozambique</td>\n",
       "      <td>2014</td>\n",
       "      <td>1217.090210</td>\n",
       "      <td>5.94</td>\n",
       "    </tr>\n",
       "    <tr>\n",
       "      <th>3098</th>\n",
       "      <td>Togo</td>\n",
       "      <td>2014</td>\n",
       "      <td>1404.132938</td>\n",
       "      <td>5.70</td>\n",
       "    </tr>\n",
       "  </tbody>\n",
       "</table>\n",
       "</div>"
      ],
      "text/plain": [
       "         Country  Year  GDP_Per_Capita  Internet_Users_Pct\n",
       "540      Burundi  2014      886.235777                1.38\n",
       "1842      Malawi  2014     1027.208496                5.83\n",
       "2256       Niger  2014     1127.615541                1.95\n",
       "2102  Mozambique  2014     1217.090210                5.94\n",
       "3098        Togo  2014     1404.132938                5.70"
      ]
     },
     "execution_count": 342,
     "metadata": {},
     "output_type": "execute_result"
    }
   ],
   "source": [
    "#32 lowest GDP for 2014\n",
    "UN_2014_df.nsmallest(5,'GDP_Per_Capita')"
   ]
  },
  {
   "cell_type": "code",
   "execution_count": 344,
   "id": "73249a5d",
   "metadata": {},
   "outputs": [
    {
     "name": "stdout",
     "output_type": "stream",
     "text": [
      "         Country  Year  GDP_Per_Capita  Internet_Users_Pct\n",
      "540      Burundi  2014      886.235777            1.380000\n",
      "545      Burundi  2009      831.564131            0.900000\n",
      "550      Burundi  2004      817.460585            0.349060\n",
      "1842      Malawi  2014     1027.208496            5.830000\n",
      "1847      Malawi  2009      932.867635            1.070000\n",
      "1852      Malawi  2004      775.346132            0.347505\n",
      "2102  Mozambique  2014     1217.090210            5.940000\n",
      "2107  Mozambique  2009      991.323181            2.680000\n",
      "2112  Mozambique  2004      792.727155            0.679448\n",
      "2256       Niger  2014     1127.615541            1.950000\n",
      "2261       Niger  2009      992.409977            0.760000\n",
      "2266       Niger  2004      929.883920            0.189934\n",
      "3098        Togo  2014     1404.132938            5.700000\n",
      "3103        Togo  2009     1186.114587            2.600000\n",
      "3108        Togo  2004     1276.676272            1.500000\n"
     ]
    }
   ],
   "source": [
    "bottom_5_gdp= new_df[new_df['Country'].isin(['Burundi', 'Malawi', 'Niger', 'Mozambique', 'Togo'])]\n",
    "print(bottom_5_gdp)"
   ]
  },
  {
   "cell_type": "code",
   "execution_count": 355,
   "id": "74d1428c",
   "metadata": {},
   "outputs": [
    {
     "data": {
      "image/png": "[encoded data removed]",
      "text/plain": [
       "<Figure size 432x288 with 1 Axes>"
      ]
     },
     "metadata": {
      "needs_background": "light"
     },
     "output_type": "display_data"
    }
   ],
   "source": [
    "ax= sns.barplot(y='Country', x='GDP_Per_Capita', hue='Year', data=bottom_5_gdp, color='green')"
   ]
  },
  {
   "cell_type": "code",
   "execution_count": null,
   "id": "f05882f7",
   "metadata": {},
   "outputs": [],
   "source": []
  },
  {
   "cell_type": "code",
   "execution_count": null,
   "id": "cabefaf5",
   "metadata": {},
   "outputs": [],
   "source": []
  }
 ],
 "metadata": {
  "kernelspec": {
   "display_name": "Python 3",
   "language": "python",
   "name": "python3"
  },
  "language_info": {
   "codemirror_mode": {
    "name": "ipython",
    "version": 3
   },
   "file_extension": ".py",
   "mimetype": "text/x-python",
   "name": "python",
   "nbconvert_exporter": "python",
   "pygments_lexer": "ipython3",
   "version": "3.8.8"
  }
 },
 "nbformat": 4,
 "nbformat_minor": 5
}
